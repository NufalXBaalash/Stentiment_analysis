{
 "cells": [
  {
   "cell_type": "markdown",
   "id": "004b3f99-622c-4a1c-93c4-25ea2b1ca476",
   "metadata": {},
   "source": [
    "## Sentiment Analysis of Twitter and Reddit Reviews\n",
    "\n",
    "This project focuses on performing sentiment analysis on user-generated reviews from **Twitter** and **Reddit**. The goal is to classify each text as expressing **positive**, **negative**, or **neutral** sentiment.\n",
    "\n",
    "We work with two datasets:\n",
    "\n",
    "* **Training Data:** 162,980 samples with 2 columns (`text`, `label`)\n",
    "* **Testing Data:** 37,249 samples with 2 columns (`text`, `label`)\n",
    "\n",
    "The analysis includes:\n",
    "\n",
    "* Preprocessing and cleaning of text data\n",
    "* Feature extraction using NLP techniques (e.g., TF-IDF, tokenization)\n",
    "* Model training using machine learning algorithms\n",
    "* Evaluation and visualization of results\n",
    "\n",
    "This project demonstrates how Natural Language Processing (NLP) can be used to extract sentiment insights from social media platforms.\n"
   ]
  },
  {
   "cell_type": "markdown",
   "id": "6775cbcc-9507-4d07-bc53-be89373ebe86",
   "metadata": {},
   "source": [
    "### 1. Data Loading\n",
    "\n",
    "Importing libraries and loading Twitter and Reddit datasets for sentiment analysis. Displaying the first few rows to inspect the structure.\n"
   ]
  },
  {
   "cell_type": "code",
   "execution_count": 2,
   "id": "initial_id",
   "metadata": {
    "ExecuteTime": {
     "end_time": "2025-07-02T23:57:27.025665Z",
     "start_time": "2025-07-02T23:57:26.727359Z"
    }
   },
   "outputs": [
    {
     "data": {
      "text/html": [
       "<div>\n",
       "<style scoped>\n",
       "    .dataframe tbody tr th:only-of-type {\n",
       "        vertical-align: middle;\n",
       "    }\n",
       "\n",
       "    .dataframe tbody tr th {\n",
       "        vertical-align: top;\n",
       "    }\n",
       "\n",
       "    .dataframe thead th {\n",
       "        text-align: right;\n",
       "    }\n",
       "</style>\n",
       "<table border=\"1\" class=\"dataframe\">\n",
       "  <thead>\n",
       "    <tr style=\"text-align: right;\">\n",
       "      <th></th>\n",
       "      <th>clean_text</th>\n",
       "      <th>category</th>\n",
       "    </tr>\n",
       "  </thead>\n",
       "  <tbody>\n",
       "    <tr>\n",
       "      <th>0</th>\n",
       "      <td>when modi promised “minimum government maximum...</td>\n",
       "      <td>-1.0</td>\n",
       "    </tr>\n",
       "    <tr>\n",
       "      <th>1</th>\n",
       "      <td>talk all the nonsense and continue all the dra...</td>\n",
       "      <td>0.0</td>\n",
       "    </tr>\n",
       "    <tr>\n",
       "      <th>2</th>\n",
       "      <td>what did just say vote for modi  welcome bjp t...</td>\n",
       "      <td>1.0</td>\n",
       "    </tr>\n",
       "    <tr>\n",
       "      <th>3</th>\n",
       "      <td>asking his supporters prefix chowkidar their n...</td>\n",
       "      <td>1.0</td>\n",
       "    </tr>\n",
       "    <tr>\n",
       "      <th>4</th>\n",
       "      <td>answer who among these the most powerful world...</td>\n",
       "      <td>1.0</td>\n",
       "    </tr>\n",
       "  </tbody>\n",
       "</table>\n",
       "</div>"
      ],
      "text/plain": [
       "                                          clean_text  category\n",
       "0  when modi promised “minimum government maximum...      -1.0\n",
       "1  talk all the nonsense and continue all the dra...       0.0\n",
       "2  what did just say vote for modi  welcome bjp t...       1.0\n",
       "3  asking his supporters prefix chowkidar their n...       1.0\n",
       "4  answer who among these the most powerful world...       1.0"
      ]
     },
     "execution_count": 2,
     "metadata": {},
     "output_type": "execute_result"
    }
   ],
   "source": [
    "import pandas as pd\n",
    "import numpy as np\n",
    "import re\n",
    "import nltk\n",
    "import matplotlib.pyplot as plt\n",
    "import seaborn as sns\n",
    "from nltk.corpus import stopwords\n",
    "from sklearn.model_selection import train_test_split\n",
    "\n",
    "df = pd.read_csv(\"Twitter_Data.csv\")\n",
    "df_reddit = pd.read_csv(\"Reddit_Data.csv\")\n",
    "df.head()"
   ]
  },
  {
   "cell_type": "markdown",
   "id": "c195584f-0097-46fe-a4b3-88762afcab25",
   "metadata": {},
   "source": [
    "### 2. Data Preprocessing & EDA\n",
    "\n",
    "Cleaning the text data by removing noise (e.g., punctuation, stopwords) and performing exploratory data analysis to understand sentiment distribution and text characteristics.\n"
   ]
  },
  {
   "cell_type": "code",
   "execution_count": 3,
   "id": "f61bab0fd0522d34",
   "metadata": {
    "ExecuteTime": {
     "end_time": "2025-07-02T23:57:27.083988Z",
     "start_time": "2025-07-02T23:57:27.079992Z"
    }
   },
   "outputs": [
    {
     "name": "stdout",
     "output_type": "stream",
     "text": [
      "(162980, 2)\n",
      "(37249, 2)\n"
     ]
    }
   ],
   "source": [
    "print(df.shape)\n",
    "print(df_reddit.shape)"
   ]
  },
  {
   "cell_type": "code",
   "execution_count": 4,
   "id": "b2d33cc0ef9b5ff3",
   "metadata": {
    "ExecuteTime": {
     "end_time": "2025-07-02T23:57:27.198958Z",
     "start_time": "2025-07-02T23:57:27.186002Z"
    }
   },
   "outputs": [
    {
     "name": "stdout",
     "output_type": "stream",
     "text": [
      "<class 'pandas.core.frame.DataFrame'>\n",
      "RangeIndex: 162980 entries, 0 to 162979\n",
      "Data columns (total 2 columns):\n",
      " #   Column      Non-Null Count   Dtype  \n",
      "---  ------      --------------   -----  \n",
      " 0   clean_text  162976 non-null  object \n",
      " 1   category    162973 non-null  float64\n",
      "dtypes: float64(1), object(1)\n",
      "memory usage: 2.5+ MB\n"
     ]
    }
   ],
   "source": [
    "df.info()"
   ]
  },
  {
   "cell_type": "code",
   "execution_count": 5,
   "id": "131b8789ccb2c48d",
   "metadata": {
    "ExecuteTime": {
     "end_time": "2025-07-02T23:57:27.279509Z",
     "start_time": "2025-07-02T23:57:27.259046Z"
    }
   },
   "outputs": [],
   "source": [
    "df.isna().sum()\n",
    "df.dropna(inplace=True)"
   ]
  },
  {
   "cell_type": "code",
   "execution_count": 6,
   "id": "83d068228f392c8e",
   "metadata": {
    "ExecuteTime": {
     "end_time": "2025-07-02T23:57:27.312570Z",
     "start_time": "2025-07-02T23:57:27.302855Z"
    }
   },
   "outputs": [],
   "source": [
    "df_reddit.isna().sum()\n",
    "df_reddit.dropna(inplace=True)"
   ]
  },
  {
   "cell_type": "code",
   "execution_count": 7,
   "id": "ebc01977c950779",
   "metadata": {
    "ExecuteTime": {
     "end_time": "2025-07-02T23:57:27.346247Z",
     "start_time": "2025-07-02T23:57:27.339817Z"
    }
   },
   "outputs": [
    {
     "data": {
      "text/plain": [
       "category\n",
       " 1.0    72249\n",
       " 0.0    55211\n",
       "-1.0    35509\n",
       "Name: count, dtype: int64"
      ]
     },
     "execution_count": 7,
     "metadata": {},
     "output_type": "execute_result"
    }
   ],
   "source": [
    "df[\"category\"].value_counts()"
   ]
  },
  {
   "cell_type": "code",
   "execution_count": 8,
   "id": "44b26a31123539ab",
   "metadata": {
    "ExecuteTime": {
     "end_time": "2025-07-02T23:57:27.556729Z",
     "start_time": "2025-07-02T23:57:27.473376Z"
    }
   },
   "outputs": [
    {
     "data": {
      "text/plain": [
       "<BarContainer object of 3 artists>"
      ]
     },
     "execution_count": 8,
     "metadata": {},
     "output_type": "execute_result"
    },
    {
     "data": {
      "image/png": "[encoded data removed]",
      "text/plain": [
       "<Figure size 640x480 with 1 Axes>"
      ]
     },
     "metadata": {},
     "output_type": "display_data"
    }
   ],
   "source": [
    "plt.bar(df[\"category\"].value_counts().index , df[\"category\"].value_counts().values)"
   ]
  },
  {
   "cell_type": "code",
   "execution_count": 9,
   "id": "232fca9a298637a7",
   "metadata": {
    "ExecuteTime": {
     "end_time": "2025-07-02T23:57:27.679940Z",
     "start_time": "2025-07-02T23:57:27.600419Z"
    }
   },
   "outputs": [
    {
     "data": {
      "text/plain": [
       "<BarContainer object of 3 artists>"
      ]
     },
     "execution_count": 9,
     "metadata": {},
     "output_type": "execute_result"
    },
    {
     "data": {
      "image/png": "[encoded data removed]",
      "text/plain": [
       "<Figure size 640x480 with 1 Axes>"
      ]
     },
     "metadata": {},
     "output_type": "display_data"
    }
   ],
   "source": [
    "plt.bar(df_reddit[\"category\"].value_counts().index , df_reddit[\"category\"].value_counts().values)"
   ]
  },
  {
   "cell_type": "code",
   "execution_count": 10,
   "id": "6e8f1fef2b77206c",
   "metadata": {
    "ExecuteTime": {
     "end_time": "2025-07-02T23:57:27.755964Z",
     "start_time": "2025-07-02T23:57:27.738429Z"
    }
   },
   "outputs": [],
   "source": [
    "# To concatenat Reddit and Twitter reviews\n",
    "result = pd.concat([df, df_reddit], ignore_index=True)\n",
    "\n",
    "from sklearn.preprocessing import LabelEncoder\n",
    "le = LabelEncoder()\n",
    "result[\"category\"] = le.fit_transform(result[\"category\"])"
   ]
  },
  {
   "cell_type": "markdown",
   "id": "e447b7da-3647-44d3-8b5e-9167a4fd4934",
   "metadata": {},
   "source": [
    "### 3. Text Cleaning & Normalization\n",
    "\n",
    "Applying custom preprocessing to remove URLs, punctuation, repeated characters, emojis, and stopwords. Text is then lowercased and stemmed. Short or empty reviews are filtered out.\n"
   ]
  },
  {
   "cell_type": "code",
   "execution_count": 11,
   "id": "8446a9186c4b1d35",
   "metadata": {
    "ExecuteTime": {
     "end_time": "2025-07-02T23:58:05.062794Z",
     "start_time": "2025-07-02T23:57:27.774699Z"
    }
   },
   "outputs": [
    {
     "name": "stderr",
     "output_type": "stream",
     "text": [
      "[nltk_data] Downloading package stopwords to\n",
      "[nltk_data]     C:\\Users\\nufal\\AppData\\Roaming\\nltk_data...\n",
      "[nltk_data]   Package stopwords is already up-to-date!\n",
      "[nltk_data] Downloading package punkt to\n",
      "[nltk_data]     C:\\Users\\nufal\\AppData\\Roaming\\nltk_data...\n",
      "[nltk_data]   Package punkt is already up-to-date!\n"
     ]
    }
   ],
   "source": [
    "import emoji\n",
    "import nltk\n",
    "from nltk import PorterStemmer\n",
    "\n",
    "nltk.download('stopwords')\n",
    "nltk.download('punkt')\n",
    "\n",
    "stopwords = set(stopwords.words('english'))\n",
    "port_stemmer = PorterStemmer()\n",
    "\n",
    "def preprocessing(text):\n",
    "    text = str(text)\n",
    "    text = text.lower()\n",
    "    text = re.sub(r\"http\\S+\", \"\", text)\n",
    "    text = re.sub(r\"[^a-zA-Z]\", \" \", text)\n",
    "    text = re.sub(r\"\\s+\", \" \", text)\n",
    "    text = re.sub(r'(.)\\1{1,}', r'\\1', text)\n",
    "    text = emoji.demojize(text)\n",
    "    text = text.split()\n",
    "    text = [port_stemmer.stem(word) for word in text if not word in stopwords]\n",
    "    text = \" \".join(text)\n",
    "    return text\n",
    "\n",
    "result[\"preprocessed_reviews\"] = result[\"clean_text\"].apply(preprocessing)\n",
    "                                                            # Keep rows where 'preprocced_text' has 2 or more words\n",
    "result = result[result['preprocessed_reviews'].apply(lambda x: len(str(x).split()) >= 2)]\n"
   ]
  },
  {
   "cell_type": "code",
   "execution_count": 12,
   "id": "81e68af83d6078",
   "metadata": {
    "ExecuteTime": {
     "end_time": "2025-07-02T23:58:05.091096Z",
     "start_time": "2025-07-02T23:58:05.083791Z"
    }
   },
   "outputs": [
    {
     "data": {
      "text/html": [
       "<div>\n",
       "<style scoped>\n",
       "    .dataframe tbody tr th:only-of-type {\n",
       "        vertical-align: middle;\n",
       "    }\n",
       "\n",
       "    .dataframe tbody tr th {\n",
       "        vertical-align: top;\n",
       "    }\n",
       "\n",
       "    .dataframe thead th {\n",
       "        text-align: right;\n",
       "    }\n",
       "</style>\n",
       "<table border=\"1\" class=\"dataframe\">\n",
       "  <thead>\n",
       "    <tr style=\"text-align: right;\">\n",
       "      <th></th>\n",
       "      <th>clean_text</th>\n",
       "      <th>category</th>\n",
       "      <th>clean_comment</th>\n",
       "      <th>preprocessed_reviews</th>\n",
       "    </tr>\n",
       "  </thead>\n",
       "  <tbody>\n",
       "    <tr>\n",
       "      <th>0</th>\n",
       "      <td>when modi promised “minimum government maximum...</td>\n",
       "      <td>0</td>\n",
       "      <td>NaN</td>\n",
       "      <td>modi promis minimum govern maximum govern expe...</td>\n",
       "    </tr>\n",
       "    <tr>\n",
       "      <th>1</th>\n",
       "      <td>talk all the nonsense and continue all the dra...</td>\n",
       "      <td>1</td>\n",
       "      <td>NaN</td>\n",
       "      <td>talk al nonsens continu al drama wil vote modi</td>\n",
       "    </tr>\n",
       "    <tr>\n",
       "      <th>2</th>\n",
       "      <td>what did just say vote for modi  welcome bjp t...</td>\n",
       "      <td>2</td>\n",
       "      <td>NaN</td>\n",
       "      <td>say vote modi welcom bjp told rahul main campa...</td>\n",
       "    </tr>\n",
       "    <tr>\n",
       "      <th>3</th>\n",
       "      <td>asking his supporters prefix chowkidar their n...</td>\n",
       "      <td>2</td>\n",
       "      <td>NaN</td>\n",
       "      <td>ask suport prefix chowkidar name modi great se...</td>\n",
       "    </tr>\n",
       "    <tr>\n",
       "      <th>4</th>\n",
       "      <td>answer who among these the most powerful world...</td>\n",
       "      <td>2</td>\n",
       "      <td>NaN</td>\n",
       "      <td>answer among power world leader today trump pu...</td>\n",
       "    </tr>\n",
       "  </tbody>\n",
       "</table>\n",
       "</div>"
      ],
      "text/plain": [
       "                                          clean_text  category clean_comment  \\\n",
       "0  when modi promised “minimum government maximum...         0           NaN   \n",
       "1  talk all the nonsense and continue all the dra...         1           NaN   \n",
       "2  what did just say vote for modi  welcome bjp t...         2           NaN   \n",
       "3  asking his supporters prefix chowkidar their n...         2           NaN   \n",
       "4  answer who among these the most powerful world...         2           NaN   \n",
       "\n",
       "                                preprocessed_reviews  \n",
       "0  modi promis minimum govern maximum govern expe...  \n",
       "1     talk al nonsens continu al drama wil vote modi  \n",
       "2  say vote modi welcom bjp told rahul main campa...  \n",
       "3  ask suport prefix chowkidar name modi great se...  \n",
       "4  answer among power world leader today trump pu...  "
      ]
     },
     "execution_count": 12,
     "metadata": {},
     "output_type": "execute_result"
    }
   ],
   "source": [
    "result.head()"
   ]
  },
  {
   "cell_type": "markdown",
   "id": "ba0f8fec-08e6-4ae6-ab18-ee260559b6de",
   "metadata": {},
   "source": [
    "### 4. Sequence Length Analysis\n",
    "\n",
    "Visualizing the distribution of review lengths (in words) to better understand the typical input size. This helps in setting sequence length limits for later tokenization or padding.\n"
   ]
  },
  {
   "cell_type": "code",
   "execution_count": 14,
   "id": "3ed68b2b3186341e",
   "metadata": {
    "ExecuteTime": {
     "end_time": "2025-07-02T23:58:05.858291Z",
     "start_time": "2025-07-02T23:58:05.449362Z"
    }
   },
   "outputs": [
    {
     "data": {
      "image/png": "[encoded data removed]",
      "text/plain": [
       "<Figure size 640x480 with 1 Axes>"
      ]
     },
     "metadata": {},
     "output_type": "display_data"
    },
    {
     "name": "stdout",
     "output_type": "stream",
     "text": [
      "Max: 44\n",
      "Mean: 14.55\n",
      "90th percentile: 26.0\n"
     ]
    }
   ],
   "source": [
    "import matplotlib.pyplot as plt\n",
    "lengthes = []\n",
    "for i in result[\"preprocessed_reviews\"]:\n",
    "    lengthes.append(len(i.split()))\n",
    "\n",
    "plt.hist(lengthes, bins=50)\n",
    "plt.xlabel(\"Sequence Length\")\n",
    "plt.ylabel(\"Frequency\")\n",
    "plt.title(\"Distribution of Training Sequence Lengths\")\n",
    "plt.show()\n",
    "\n",
    "print(f\"Max: {max(lengthes)}\")\n",
    "print(f\"Mean: {sum(lengthes)/len(lengthes):.2f}\")\n",
    "print(f\"90th percentile: {np.percentile(lengthes, 90)}\")"
   ]
  },
  {
   "cell_type": "markdown",
   "id": "32346e30-f9ac-44c4-b2b5-2dadc777affd",
   "metadata": {},
   "source": [
    "### 5. Feature and Label Separation + Data Splitting\n",
    "\n",
    "Separating the cleaned text and sentiment labels, then splitting the data into training and testing sets using stratified sampling to maintain class balance.\n"
   ]
  },
  {
   "cell_type": "code",
   "execution_count": 38,
   "id": "c6c394d1ab9b945f",
   "metadata": {
    "ExecuteTime": {
     "end_time": "2025-07-02T23:58:05.288614Z",
     "start_time": "2025-07-02T23:58:05.284203Z"
    }
   },
   "outputs": [],
   "source": [
    "X = result[\"preprocessed_reviews\"].values\n",
    "Y = result[\"category\"].values"
   ]
  },
  {
   "cell_type": "code",
   "execution_count": 40,
   "id": "bfd17ed6d54bff5c",
   "metadata": {
    "ExecuteTime": {
     "end_time": "2025-07-02T23:58:05.947709Z",
     "start_time": "2025-07-02T23:58:05.893040Z"
    }
   },
   "outputs": [],
   "source": [
    "from sklearn.model_selection import train_test_split\n",
    "x_train,x_test,y_train,y_test  = train_test_split(X,Y,test_size=0.2 , stratify=Y, random_state=42)"
   ]
  },
  {
   "cell_type": "markdown",
   "id": "3af072cf-06a2-4fa6-9e90-0ecf0ee3b5e4",
   "metadata": {},
   "source": [
    "### 6. TF-IDF Vectorization & Top Word Analysis\n",
    "\n",
    "Converting text data into numerical features using TF-IDF. Then, identifying and visualizing the top 10 words with the highest overall importance across the training set.\n"
   ]
  },
  {
   "cell_type": "code",
   "execution_count": 41,
   "id": "125d9cf5781dcd39",
   "metadata": {
    "ExecuteTime": {
     "end_time": "2025-07-02T23:58:07.532603Z",
     "start_time": "2025-07-02T23:58:05.970788Z"
    }
   },
   "outputs": [],
   "source": [
    "from sklearn.feature_extraction.text import TfidfVectorizer\n",
    "vectorizer = TfidfVectorizer()\n",
    "\n",
    "x_train = vectorizer.fit_transform(x_train)\n",
    "x_test = vectorizer.transform(x_test)\n"
   ]
  },
  {
   "cell_type": "code",
   "execution_count": 42,
   "id": "3682ff0896d2d7ba",
   "metadata": {
    "ExecuteTime": {
     "end_time": "2025-07-02T23:58:07.714071Z",
     "start_time": "2025-07-02T23:58:07.551546Z"
    }
   },
   "outputs": [
    {
     "data": {
      "image/png": "[encoded data removed]",
      "text/plain": [
       "<Figure size 1000x600 with 1 Axes>"
      ]
     },
     "metadata": {},
     "output_type": "display_data"
    }
   ],
   "source": [
    "# 2. Sum the TF-IDF values for each word (across all documents)\n",
    "tfidf_scores = x_train.sum(axis=0)  # shape is (1, num_words)\n",
    "scores = tfidf_scores.A1  # Convert to 1D array\n",
    "\n",
    "# 3. Map scores to words\n",
    "words = vectorizer.get_feature_names_out()\n",
    "word_scores = dict(zip(words, scores))\n",
    "\n",
    "# 4. Sort words by their TF-IDF scores\n",
    "sorted_words = sorted(word_scores.items(), key=lambda x: x[1], reverse=True)\n",
    "\n",
    "# 5. Plot top N words\n",
    "top_n = 10\n",
    "top_words = sorted_words[:top_n]\n",
    "\n",
    "words, scores = zip(*top_words)\n",
    "plt.figure(figsize=(10, 6))\n",
    "plt.barh(words, scores, color='skyblue')\n",
    "plt.xlabel(\"TF-IDF Score\")\n",
    "plt.title(f\"Top {top_n} Words by TF-IDF Score\")\n",
    "plt.gca().invert_yaxis()\n",
    "plt.show()"
   ]
  },
  {
   "cell_type": "markdown",
   "id": "78ddc2c7-7372-47cc-9de0-43e5a44bf0db",
   "metadata": {},
   "source": [
    "### 7. Model Training and Evaluation\n",
    "\n",
    "Applying various machine learning models (e.g., Logistic Regression, SVM, Random Forest) to classify sentiment. Each model is trained on the TF-IDF features and evaluated using standard metrics.\n"
   ]
  },
  {
   "cell_type": "code",
   "execution_count": 43,
   "id": "9ece661b490ec7cb",
   "metadata": {
    "ExecuteTime": {
     "end_time": "2025-07-02T23:58:15.092748Z",
     "start_time": "2025-07-02T23:58:07.732229Z"
    }
   },
   "outputs": [
    {
     "name": "stdout",
     "output_type": "stream",
     "text": [
      "              precision    recall  f1-score   support\n",
      "\n",
      "           0       0.82      0.72      0.77      7098\n",
      "           1       0.82      0.91      0.86     10907\n",
      "           2       0.87      0.86      0.87     14429\n",
      "\n",
      "    accuracy                           0.84     32434\n",
      "   macro avg       0.84      0.83      0.83     32434\n",
      "weighted avg       0.84      0.84      0.84     32434\n",
      "\n"
     ]
    }
   ],
   "source": [
    "from sklearn.linear_model import LogisticRegression\n",
    "from sklearn.metrics import classification_report\n",
    "\n",
    "lr = LogisticRegression(max_iter=10000)\n",
    "lr.fit(x_train, y_train)\n",
    "y_pred = lr.predict(x_test)\n",
    "print(classification_report(y_test, y_pred))"
   ]
  },
  {
   "cell_type": "code",
   "execution_count": 44,
   "id": "b10e782a392b3d9b",
   "metadata": {
    "ExecuteTime": {
     "end_time": "2025-07-02T23:58:20.325375Z",
     "start_time": "2025-07-02T23:58:15.127254Z"
    }
   },
   "outputs": [
    {
     "name": "stdout",
     "output_type": "stream",
     "text": [
      "              precision    recall  f1-score   support\n",
      "\n",
      "           0       0.82      0.74      0.78      7098\n",
      "           1       0.83      0.90      0.86     10907\n",
      "           2       0.88      0.86      0.87     14429\n",
      "\n",
      "    accuracy                           0.85     32434\n",
      "   macro avg       0.84      0.83      0.84     32434\n",
      "weighted avg       0.85      0.85      0.85     32434\n",
      "\n"
     ]
    }
   ],
   "source": [
    "from sklearn.svm import LinearSVC\n",
    "svm_model = LinearSVC()\n",
    "svm_model.fit(x_train, y_train)\n",
    "y_pred = svm_model.predict(x_test)\n",
    "print(classification_report(y_test, y_pred))"
   ]
  },
  {
   "cell_type": "code",
   "execution_count": 49,
   "id": "ceb03e5543f857aa",
   "metadata": {
    "ExecuteTime": {
     "end_time": "2025-07-03T00:01:22.311771Z",
     "start_time": "2025-07-03T00:00:31.605717Z"
    }
   },
   "outputs": [
    {
     "name": "stdout",
     "output_type": "stream",
     "text": [
      "              precision    recall  f1-score   support\n",
      "\n",
      "           0       0.84      0.61      0.71      7098\n",
      "           1       0.73      0.94      0.82     10907\n",
      "           2       0.87      0.80      0.84     14429\n",
      "\n",
      "    accuracy                           0.81     32434\n",
      "   macro avg       0.81      0.78      0.79     32434\n",
      "weighted avg       0.82      0.81      0.80     32434\n",
      "\n"
     ]
    }
   ],
   "source": [
    "from xgboost import XGBClassifier\n",
    "XGB = XGBClassifier(eval_metric='logloss', random_state=42)\n",
    "XGB.fit(x_train, y_train)\n",
    "y_pred = XGB.predict(x_test)\n",
    "print(classification_report(y_test, y_pred))"
   ]
  },
  {
   "cell_type": "code",
   "execution_count": 52,
   "id": "a34398fb6c766d4e",
   "metadata": {
    "ExecuteTime": {
     "end_time": "2025-07-03T00:02:02.956576Z",
     "start_time": "2025-07-03T00:02:02.951350Z"
    }
   },
   "outputs": [],
   "source": [
    "def predict_using_model(text, model):\n",
    "    new_text_tfidf = vectorizer.transform([text])\n",
    "    prediction = model.predict(new_text_tfidf)\n",
    "    print(f\"Predicted class: {prediction[0]}\")\n",
    "    if prediction[0] == 0:\n",
    "        print(\"Negative\")\n",
    "    elif prediction[0] == 1:\n",
    "        print(\"Neutral\")\n",
    "    else:\n",
    "        print(\"Positive\")"
   ]
  },
  {
   "cell_type": "code",
   "execution_count": 54,
   "id": "bffffa18a86d8f5a",
   "metadata": {
    "ExecuteTime": {
     "end_time": "2025-07-03T00:02:20.569404Z",
     "start_time": "2025-07-03T00:02:20.561108Z"
    }
   },
   "outputs": [
    {
     "name": "stdout",
     "output_type": "stream",
     "text": [
      "Linear Regression: \n",
      "Predicted class: 0\n",
      "Negative\n",
      "----------------------------------------------------------------------------------------------------\n",
      "SVM: \n",
      "Predicted class: 0\n",
      "Negative\n",
      "----------------------------------------------------------------------------------------------------\n",
      "XGBoost: \n",
      "Predicted class: 0\n",
      "Negative\n"
     ]
    }
   ],
   "source": [
    "print(\"Linear Regression: \")\n",
    "predict_using_model(\"I Hate you\",lr)\n",
    "print(\"-\"*100)\n",
    "print(\"SVM: \")\n",
    "predict_using_model(\"I Hate you\",svm_model)\n",
    "print(\"-\"*100)\n",
    "print(\"XGBoost: \")\n",
    "predict_using_model(\"I Hate you\",XGB)"
   ]
  }
 ],
 "metadata": {
  "kernelspec": {
   "display_name": "Python 3 (ipykernel)",
   "language": "python",
   "name": "python3"
  },
  "language_info": {
   "codemirror_mode": {
    "name": "ipython",
    "version": 3
   },
   "file_extension": ".py",
   "mimetype": "text/x-python",
   "name": "python",
   "nbconvert_exporter": "python",
   "pygments_lexer": "ipython3",
   "version": "3.11.9"
  }
 },
 "nbformat": 4,
 "nbformat_minor": 5
}
